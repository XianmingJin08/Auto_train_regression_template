{
 "cells": [
  {
   "cell_type": "code",
   "execution_count": 1,
   "metadata": {},
   "outputs": [],
   "source": [
    "import numpy as np\n",
    "import pandas as pd\n"
   ]
  },
  {
   "cell_type": "code",
   "execution_count": 25,
   "metadata": {},
   "outputs": [],
   "source": [
    "A = np.load(\"data_A.npy\")\n",
    "y = np.load(\"labels.npy\")"
   ]
  },
  {
   "cell_type": "code",
   "execution_count": 30,
   "metadata": {},
   "outputs": [],
   "source": [
    "np.save(\"input_x\",A[0:2])"
   ]
  },
  {
   "cell_type": "code",
   "execution_count": 29,
   "metadata": {},
   "outputs": [],
   "source": [
    "np.save(\"X\",A[2:])"
   ]
  },
  {
   "cell_type": "code",
   "execution_count": 59,
   "metadata": {},
   "outputs": [],
   "source": [
    "C = C.reshape((C.shape[0],3))[:,[0,2]]"
   ]
  },
  {
   "cell_type": "code",
   "execution_count": 18,
   "metadata": {},
   "outputs": [],
   "source": [
    "valid_mask = np.isfinite(A_).all(axis=-1)\n",
    "\n",
    "# Filter out rows where C has inf or NaN values\n",
    "filtered_A = A[valid_mask]\n",
    "filtered_y = y[valid_mask]"
   ]
  },
  {
   "cell_type": "code",
   "execution_count": 61,
   "metadata": {},
   "outputs": [],
   "source": [
    "np.save(\"data_A\",filtered_A)\n",
    "np.save(\"data_B\",filtered_B)\n",
    "np.save(\"data_C\",filtered_C)\n",
    "np.save(\"labels\",filtered_y)"
   ]
  },
  {
   "cell_type": "code",
   "execution_count": 42,
   "metadata": {},
   "outputs": [
    {
     "data": {
      "text/plain": [
       "161823"
      ]
     },
     "execution_count": 42,
     "metadata": {},
     "output_type": "execute_result"
    }
   ],
   "source": [
    "len(filtered_A)"
   ]
  },
  {
   "cell_type": "code",
   "execution_count": 40,
   "metadata": {},
   "outputs": [
    {
     "data": {
      "text/plain": [
       "161901"
      ]
     },
     "execution_count": 40,
     "metadata": {},
     "output_type": "execute_result"
    }
   ],
   "source": [
    "len(C)"
   ]
  },
  {
   "cell_type": "code",
   "execution_count": 39,
   "metadata": {},
   "outputs": [
    {
     "data": {
      "text/plain": [
       "161823"
      ]
     },
     "execution_count": 39,
     "metadata": {},
     "output_type": "execute_result"
    }
   ],
   "source": [
    "len(C[np.isfinite(C).all(axis=1)])"
   ]
  },
  {
   "cell_type": "code",
   "execution_count": 36,
   "metadata": {},
   "outputs": [
    {
     "data": {
      "text/plain": [
       "array([       nan, 0.49577771])"
      ]
     },
     "execution_count": 36,
     "metadata": {},
     "output_type": "execute_result"
    }
   ],
   "source": [
    "np.mean(C,axis=0)"
   ]
  },
  {
   "cell_type": "code",
   "execution_count": 31,
   "metadata": {},
   "outputs": [
    {
     "data": {
      "text/plain": [
       "nan"
      ]
     },
     "execution_count": 31,
     "metadata": {},
     "output_type": "execute_result"
    }
   ],
   "source": [
    "C.mean()"
   ]
  },
  {
   "cell_type": "code",
   "execution_count": 25,
   "metadata": {},
   "outputs": [],
   "source": [
    "df_C = pd.DataFrame(C)"
   ]
  },
  {
   "cell_type": "code",
   "execution_count": 26,
   "metadata": {},
   "outputs": [
    {
     "data": {
      "text/html": [
       "<div>\n",
       "<style scoped>\n",
       "    .dataframe tbody tr th:only-of-type {\n",
       "        vertical-align: middle;\n",
       "    }\n",
       "\n",
       "    .dataframe tbody tr th {\n",
       "        vertical-align: top;\n",
       "    }\n",
       "\n",
       "    .dataframe thead th {\n",
       "        text-align: right;\n",
       "    }\n",
       "</style>\n",
       "<table border=\"1\" class=\"dataframe\">\n",
       "  <thead>\n",
       "    <tr style=\"text-align: right;\">\n",
       "      <th></th>\n",
       "      <th>0</th>\n",
       "      <th>1</th>\n",
       "    </tr>\n",
       "  </thead>\n",
       "  <tbody>\n",
       "    <tr>\n",
       "      <th>count</th>\n",
       "      <td>161823.000000</td>\n",
       "      <td>161901.000000</td>\n",
       "    </tr>\n",
       "    <tr>\n",
       "      <th>mean</th>\n",
       "      <td>14.283578</td>\n",
       "      <td>0.495778</td>\n",
       "    </tr>\n",
       "    <tr>\n",
       "      <th>std</th>\n",
       "      <td>0.650797</td>\n",
       "      <td>0.288871</td>\n",
       "    </tr>\n",
       "    <tr>\n",
       "      <th>min</th>\n",
       "      <td>12.170000</td>\n",
       "      <td>0.000000</td>\n",
       "    </tr>\n",
       "    <tr>\n",
       "      <th>25%</th>\n",
       "      <td>13.800000</td>\n",
       "      <td>0.245283</td>\n",
       "    </tr>\n",
       "    <tr>\n",
       "      <th>50%</th>\n",
       "      <td>14.330000</td>\n",
       "      <td>0.495327</td>\n",
       "    </tr>\n",
       "    <tr>\n",
       "      <th>75%</th>\n",
       "      <td>14.750000</td>\n",
       "      <td>0.746835</td>\n",
       "    </tr>\n",
       "    <tr>\n",
       "      <th>max</th>\n",
       "      <td>16.300000</td>\n",
       "      <td>0.992806</td>\n",
       "    </tr>\n",
       "  </tbody>\n",
       "</table>\n",
       "</div>"
      ],
      "text/plain": [
       "                   0              1\n",
       "count  161823.000000  161901.000000\n",
       "mean       14.283578       0.495778\n",
       "std         0.650797       0.288871\n",
       "min        12.170000       0.000000\n",
       "25%        13.800000       0.245283\n",
       "50%        14.330000       0.495327\n",
       "75%        14.750000       0.746835\n",
       "max        16.300000       0.992806"
      ]
     },
     "execution_count": 26,
     "metadata": {},
     "output_type": "execute_result"
    }
   ],
   "source": [
    "df_C.describe()"
   ]
  },
  {
   "cell_type": "code",
   "execution_count": 29,
   "metadata": {},
   "outputs": [
    {
     "data": {
      "text/html": [
       "<div>\n",
       "<style scoped>\n",
       "    .dataframe tbody tr th:only-of-type {\n",
       "        vertical-align: middle;\n",
       "    }\n",
       "\n",
       "    .dataframe tbody tr th {\n",
       "        vertical-align: top;\n",
       "    }\n",
       "\n",
       "    .dataframe thead th {\n",
       "        text-align: right;\n",
       "    }\n",
       "</style>\n",
       "<table border=\"1\" class=\"dataframe\">\n",
       "  <thead>\n",
       "    <tr style=\"text-align: right;\">\n",
       "      <th></th>\n",
       "      <th>0</th>\n",
       "      <th>1</th>\n",
       "    </tr>\n",
       "  </thead>\n",
       "  <tbody>\n",
       "    <tr>\n",
       "      <th>0</th>\n",
       "      <td>NaN</td>\n",
       "      <td>NaN</td>\n",
       "    </tr>\n",
       "    <tr>\n",
       "      <th>1</th>\n",
       "      <td>NaN</td>\n",
       "      <td>NaN</td>\n",
       "    </tr>\n",
       "    <tr>\n",
       "      <th>2</th>\n",
       "      <td>NaN</td>\n",
       "      <td>NaN</td>\n",
       "    </tr>\n",
       "    <tr>\n",
       "      <th>3</th>\n",
       "      <td>NaN</td>\n",
       "      <td>NaN</td>\n",
       "    </tr>\n",
       "    <tr>\n",
       "      <th>4</th>\n",
       "      <td>NaN</td>\n",
       "      <td>NaN</td>\n",
       "    </tr>\n",
       "    <tr>\n",
       "      <th>...</th>\n",
       "      <td>...</td>\n",
       "      <td>...</td>\n",
       "    </tr>\n",
       "    <tr>\n",
       "      <th>161896</th>\n",
       "      <td>NaN</td>\n",
       "      <td>NaN</td>\n",
       "    </tr>\n",
       "    <tr>\n",
       "      <th>161897</th>\n",
       "      <td>NaN</td>\n",
       "      <td>NaN</td>\n",
       "    </tr>\n",
       "    <tr>\n",
       "      <th>161898</th>\n",
       "      <td>NaN</td>\n",
       "      <td>NaN</td>\n",
       "    </tr>\n",
       "    <tr>\n",
       "      <th>161899</th>\n",
       "      <td>NaN</td>\n",
       "      <td>NaN</td>\n",
       "    </tr>\n",
       "    <tr>\n",
       "      <th>161900</th>\n",
       "      <td>NaN</td>\n",
       "      <td>NaN</td>\n",
       "    </tr>\n",
       "  </tbody>\n",
       "</table>\n",
       "<p>161901 rows × 2 columns</p>\n",
       "</div>"
      ],
      "text/plain": [
       "         0   1\n",
       "0      NaN NaN\n",
       "1      NaN NaN\n",
       "2      NaN NaN\n",
       "3      NaN NaN\n",
       "4      NaN NaN\n",
       "...     ..  ..\n",
       "161896 NaN NaN\n",
       "161897 NaN NaN\n",
       "161898 NaN NaN\n",
       "161899 NaN NaN\n",
       "161900 NaN NaN\n",
       "\n",
       "[161901 rows x 2 columns]"
      ]
     },
     "execution_count": 29,
     "metadata": {},
     "output_type": "execute_result"
    }
   ],
   "source": [
    "df_C[df_C.isnull()]"
   ]
  },
  {
   "cell_type": "code",
   "execution_count": 22,
   "metadata": {},
   "outputs": [
    {
     "data": {
      "text/plain": [
       "79021"
      ]
     },
     "execution_count": 22,
     "metadata": {},
     "output_type": "execute_result"
    }
   ],
   "source": [
    "len(y[y==1])"
   ]
  },
  {
   "cell_type": "code",
   "execution_count": 17,
   "metadata": {},
   "outputs": [
    {
     "data": {
      "text/plain": [
       "(161901, 14, 12)"
      ]
     },
     "execution_count": 17,
     "metadata": {},
     "output_type": "execute_result"
    }
   ],
   "source": [
    "A.shape"
   ]
  },
  {
   "cell_type": "code",
   "execution_count": 18,
   "metadata": {},
   "outputs": [
    {
     "data": {
      "text/plain": [
       "(161901, 6, 2)"
      ]
     },
     "execution_count": 18,
     "metadata": {},
     "output_type": "execute_result"
    }
   ],
   "source": [
    "B.shape"
   ]
  },
  {
   "cell_type": "code",
   "execution_count": 5,
   "metadata": {},
   "outputs": [
    {
     "data": {
      "text/plain": [
       "(161901, 14, 12)"
      ]
     },
     "execution_count": 5,
     "metadata": {},
     "output_type": "execute_result"
    }
   ],
   "source": [
    "A.shape"
   ]
  },
  {
   "cell_type": "code",
   "execution_count": 16,
   "metadata": {},
   "outputs": [
    {
     "data": {
      "text/plain": [
       "(161901, 2)"
      ]
     },
     "execution_count": 16,
     "metadata": {},
     "output_type": "execute_result"
    }
   ],
   "source": [
    "C.shape"
   ]
  },
  {
   "cell_type": "code",
   "execution_count": 39,
   "metadata": {},
   "outputs": [],
   "source": [
    "A2 = np.load(\"data_A_2023.npy\")\n",
    "A2 = normalize_data(A2)\n",
    "B2 = np.load(\"data_B_2023.npy\")\n",
    "B2 = normalize_data(B2)\n",
    "y2 = np.load(\"labels_2023.npy\")"
   ]
  },
  {
   "cell_type": "code",
   "execution_count": 40,
   "metadata": {},
   "outputs": [],
   "source": [
    "A_new = np.concatenate((A,A2))\n",
    "B_new = np.concatenate((B,B2))\n",
    "y_new = np.concatenate((y,y2))"
   ]
  },
  {
   "cell_type": "code",
   "execution_count": 42,
   "metadata": {},
   "outputs": [
    {
     "data": {
      "text/plain": [
       "(207754, 14, 12)"
      ]
     },
     "execution_count": 42,
     "metadata": {},
     "output_type": "execute_result"
    }
   ],
   "source": [
    "A_new.shape"
   ]
  },
  {
   "cell_type": "code",
   "execution_count": 44,
   "metadata": {},
   "outputs": [
    {
     "data": {
      "text/plain": [
       "(207754, 6, 2)"
      ]
     },
     "execution_count": 44,
     "metadata": {},
     "output_type": "execute_result"
    }
   ],
   "source": [
    "B_new.shape"
   ]
  },
  {
   "cell_type": "code",
   "execution_count": 41,
   "metadata": {},
   "outputs": [],
   "source": [
    "np.save(\"data_A_combined\",A_new)\n",
    "np.save(\"data_B_combined\",B_new)\n",
    "np.save(\"labels_combined\",y_new)"
   ]
  },
  {
   "cell_type": "code",
   "execution_count": 15,
   "metadata": {},
   "outputs": [
    {
     "ename": "ImportError",
     "evalue": "attempted relative import with no known parent package",
     "output_type": "error",
     "traceback": [
      "\u001b[1;31m---------------------------------------------------------------------------\u001b[0m",
      "\u001b[1;31mImportError\u001b[0m                               Traceback (most recent call last)",
      "Cell \u001b[1;32mIn[15], line 1\u001b[0m\n\u001b[1;32m----> 1\u001b[0m \u001b[39mfrom\u001b[39;00m \u001b[39m.\u001b[39;00m\u001b[39m.\u001b[39;00m \u001b[39mimport\u001b[39;00m utils\n",
      "\u001b[1;31mImportError\u001b[0m: attempted relative import with no known parent package"
     ]
    }
   ],
   "source": [
    "from .. import utils"
   ]
  },
  {
   "cell_type": "code",
   "execution_count": 5,
   "metadata": {},
   "outputs": [
    {
     "data": {
      "text/plain": [
       "(75322, 6, 2)"
      ]
     },
     "execution_count": 5,
     "metadata": {},
     "output_type": "execute_result"
    }
   ],
   "source": [
    "B.shape"
   ]
  },
  {
   "cell_type": "code",
   "execution_count": 7,
   "metadata": {},
   "outputs": [
    {
     "data": {
      "text/plain": [
       "(75322, 1)"
      ]
     },
     "execution_count": 7,
     "metadata": {},
     "output_type": "execute_result"
    }
   ],
   "source": [
    "y.shape"
   ]
  },
  {
   "cell_type": "code",
   "execution_count": 6,
   "metadata": {},
   "outputs": [
    {
     "data": {
      "text/plain": [
       "65313"
      ]
     },
     "execution_count": 6,
     "metadata": {},
     "output_type": "execute_result"
    }
   ],
   "source": [
    "len(y[y==0])"
   ]
  },
  {
   "cell_type": "code",
   "execution_count": 204,
   "metadata": {},
   "outputs": [
    {
     "name": "stdout",
     "output_type": "stream",
     "text": [
      "   00:00  03:00  06:00  09:00  12:00  15:00  18:00  21:00        Date\n",
      "0  27 °c  25 °c  25 °c  30 °c  31 °c  28 °c  27 °c  26 °c  2022-03-01\n",
      "1   9 °c   8 °c   8 °c  10 °c  13 °c  17 °c  15 °c  10 °c  2022-03-02\n",
      "2   8 °c   8 °c   8 °c  12 °c  16 °c  18 °c  15 °c  13 °c  2022-03-03\n",
      "3  13 °c  12 °c  12 °c  13 °c  15 °c  16 °c  15 °c  11 °c  2022-03-04\n",
      "4  11 °c  11 °c  10 °c  13 °c  16 °c  17 °c  12 °c   7 °c  2022-03-05\n",
      "          日期   时间    top   bot     y pressure\n",
      "1 2023-03-22   8点  114.9  50.8  7.63     3.75\n",
      "2 2023-03-22   9点    116    51     —     3.75\n",
      "3 2023-03-22  10点  116.5  51.1     8     3.76\n",
      "4 2023-03-22  11点    117  51.4     —     3.75\n",
      "5 2023-03-22  12点  117.1  51.5     8     3.76\n"
     ]
    }
   ],
   "source": [
    "print(df1.head())\n",
    "print(df2.head())"
   ]
  },
  {
   "cell_type": "code",
   "execution_count": 2,
   "metadata": {},
   "outputs": [
    {
     "name": "stderr",
     "output_type": "stream",
     "text": [
      "C:\\Users\\x00651573\\AppData\\Local\\Temp\\ipykernel_9620\\171399081.py:59: SettingWithCopyWarning: \n",
      "A value is trying to be set on a copy of a slice from a DataFrame.\n",
      "Try using .loc[row_indexer,col_indexer] = value instead\n",
      "\n",
      "See the caveats in the documentation: https://pandas.pydata.org/pandas-docs/stable/user_guide/indexing.html#returning-a-view-versus-a-copy\n",
      "  df2['Time'] = df2['时间'].str.replace('点',':00')\n"
     ]
    }
   ],
   "source": [
    "import pandas as pd\n",
    "import numpy as np\n",
    "\n",
    "df = pd.read_excel('industry.xlsx')\n",
    "df['日期'] = df['日期'].fillna(method='ffill')\n",
    "df = df.drop(df.columns[[1, 8, 9]], axis=1)\n",
    "df = df.iloc[1:]\n",
    "\n",
    "new_column_names = [\"日期\",\"时间\",\"top\",\"bot\",\"y\",\"pressure\",\"flow_in\"]\n",
    "# Create a dictionary to map the current column names to the new column names\n",
    "column_mapping = {current_name: new_name for current_name, new_name in zip(df.columns, new_column_names)}\n",
    "\n",
    "# Rename the columns using the dictionary\n",
    "df.rename(columns=column_mapping, inplace=True)\n",
    "\n",
    "df1 = pd.read_csv(\"../weather_data.csv\").dropna()\n",
    "df2 = df.dropna()\n",
    "\n",
    "# clean df1\n",
    "df1 = df1.melt(id_vars='Date', var_name='Time', value_name='Temp')\n",
    "df1['Temp'] = df1['Temp'].str.replace(' °c','').astype(int)\n",
    "df1['Time'] = pd.to_datetime(df1['Time'], format='%H:%M').dt.strftime('%#H:%M')\n",
    "df1['Date'] = pd.to_datetime(df1['Date'])  # Convert to datetime\n",
    "\n",
    "# convert 'Time' to timedelta\n",
    "df1['Time'] = pd.to_timedelta(df1['Time'] + ':00')\n",
    "\n",
    "# sort by 'Date' and 'Time'\n",
    "df1 = df1.sort_values(['Date', 'Time'])\n",
    "\n",
    "# Convert 'Time' back to string format without leading zero\n",
    "df1['Time'] = df1['Time'].dt.components.hours.astype(str) + ':' + df1['Time'].dt.components.minutes.astype(str).str.zfill(2)\n",
    "\n",
    "# assuming df is your DataFrame\n",
    "\n",
    "# Combine 'Date' and 'Time' into a single datetime column\n",
    "df1['DateTime'] = pd.to_datetime(df1['Date'].astype(str) + ' ' + df1['Time'])  # Convert 'Date' to string before appending\n",
    "df1 = df1.set_index('DateTime')\n",
    "\n",
    "# Create a new DateTimeIndex that includes all hours\n",
    "new_index = pd.date_range(start=df1.index.min(), end=df1.index.max(), freq='H')\n",
    "\n",
    "# Reindex the DataFrame and interpolate missing values\n",
    "df1 = df1.reindex(new_index)\n",
    "df1['Temp'] = df1['Temp'].interpolate(method='linear')\n",
    "\n",
    "# Split the datetime index back into separate date and time columns\n",
    "df1['Date'] = df1.index.date\n",
    "df1['Time'] = df1.index.time\n",
    "\n",
    "df1['Time'] = df1['Time'].astype(str).str[:-3]\n",
    "df1['Time'] = pd.to_datetime(df1['Time'],format='%H:%M').dt.strftime('%#H:%M')\n",
    "df1['Date'] = pd.to_datetime(df1['Date'])  # Convert to datetime\n",
    "\n",
    "# Convert 'Temp' back to integer\n",
    "df1['Temp'] = df1['Temp'].round().astype(int)\n",
    "\n",
    "# clean df2\n",
    "df2['Time'] = df2['时间'].str.replace('点',':00')\n",
    "df2 = df2.rename(columns={'日期': 'Date'})\n",
    "df2['Time'] = pd.to_datetime(df2['Time'],format='%H:%M').dt.strftime('%#H:%M')\n",
    "df2['Date'] = pd.to_datetime(df2['Date'])  # Convert to datetime\n",
    "# merge dataframes\n",
    "df = pd.merge(df2, df1, on=['Date', 'Time'], how='left')\n",
    "df.dropna(inplace=True)\n"
   ]
  },
  {
   "cell_type": "code",
   "execution_count": null,
   "metadata": {},
   "outputs": [],
   "source": [
    "df = df[~(df == '—').any(axis=1)]"
   ]
  },
  {
   "cell_type": "code",
   "execution_count": 10,
   "metadata": {},
   "outputs": [
    {
     "data": {
      "text/html": [
       "<div>\n",
       "<style scoped>\n",
       "    .dataframe tbody tr th:only-of-type {\n",
       "        vertical-align: middle;\n",
       "    }\n",
       "\n",
       "    .dataframe tbody tr th {\n",
       "        vertical-align: top;\n",
       "    }\n",
       "\n",
       "    .dataframe thead th {\n",
       "        text-align: right;\n",
       "    }\n",
       "</style>\n",
       "<table border=\"1\" class=\"dataframe\">\n",
       "  <thead>\n",
       "    <tr style=\"text-align: right;\">\n",
       "      <th></th>\n",
       "      <th>Date</th>\n",
       "      <th>时间</th>\n",
       "      <th>top</th>\n",
       "      <th>bot</th>\n",
       "      <th>y</th>\n",
       "      <th>pressure</th>\n",
       "      <th>flow_in</th>\n",
       "      <th>Time</th>\n",
       "      <th>Temp</th>\n",
       "    </tr>\n",
       "  </thead>\n",
       "  <tbody>\n",
       "    <tr>\n",
       "      <th>0</th>\n",
       "      <td>2023-03-22</td>\n",
       "      <td>8点</td>\n",
       "      <td>114.9</td>\n",
       "      <td>50.8</td>\n",
       "      <td>7.63</td>\n",
       "      <td>3.75</td>\n",
       "      <td>35</td>\n",
       "      <td>8:00</td>\n",
       "      <td>17.0</td>\n",
       "    </tr>\n",
       "    <tr>\n",
       "      <th>2</th>\n",
       "      <td>2023-03-22</td>\n",
       "      <td>10点</td>\n",
       "      <td>116.5</td>\n",
       "      <td>51.1</td>\n",
       "      <td>8</td>\n",
       "      <td>3.76</td>\n",
       "      <td>35</td>\n",
       "      <td>10:00</td>\n",
       "      <td>18.0</td>\n",
       "    </tr>\n",
       "    <tr>\n",
       "      <th>4</th>\n",
       "      <td>2023-03-22</td>\n",
       "      <td>12点</td>\n",
       "      <td>117.1</td>\n",
       "      <td>51.5</td>\n",
       "      <td>8</td>\n",
       "      <td>3.76</td>\n",
       "      <td>35</td>\n",
       "      <td>12:00</td>\n",
       "      <td>17.0</td>\n",
       "    </tr>\n",
       "    <tr>\n",
       "      <th>6</th>\n",
       "      <td>2023-03-22</td>\n",
       "      <td>14点</td>\n",
       "      <td>117.1</td>\n",
       "      <td>51.3</td>\n",
       "      <td>8.11</td>\n",
       "      <td>3.9</td>\n",
       "      <td>36</td>\n",
       "      <td>14:00</td>\n",
       "      <td>16.0</td>\n",
       "    </tr>\n",
       "    <tr>\n",
       "      <th>8</th>\n",
       "      <td>2023-03-22</td>\n",
       "      <td>16点</td>\n",
       "      <td>117.6</td>\n",
       "      <td>50.6</td>\n",
       "      <td>8.72</td>\n",
       "      <td>3.96</td>\n",
       "      <td>36</td>\n",
       "      <td>16:00</td>\n",
       "      <td>15.0</td>\n",
       "    </tr>\n",
       "    <tr>\n",
       "      <th>...</th>\n",
       "      <td>...</td>\n",
       "      <td>...</td>\n",
       "      <td>...</td>\n",
       "      <td>...</td>\n",
       "      <td>...</td>\n",
       "      <td>...</td>\n",
       "      <td>...</td>\n",
       "      <td>...</td>\n",
       "      <td>...</td>\n",
       "    </tr>\n",
       "    <tr>\n",
       "      <th>2325</th>\n",
       "      <td>2023-06-28</td>\n",
       "      <td>6点</td>\n",
       "      <td>118.9</td>\n",
       "      <td>53.9</td>\n",
       "      <td>7.67</td>\n",
       "      <td>3.36</td>\n",
       "      <td>35</td>\n",
       "      <td>6:00</td>\n",
       "      <td>24.0</td>\n",
       "    </tr>\n",
       "    <tr>\n",
       "      <th>2327</th>\n",
       "      <td>2023-06-28</td>\n",
       "      <td>8点</td>\n",
       "      <td>118.9</td>\n",
       "      <td>54</td>\n",
       "      <td>7.83</td>\n",
       "      <td>3.39</td>\n",
       "      <td>35</td>\n",
       "      <td>8:00</td>\n",
       "      <td>28.0</td>\n",
       "    </tr>\n",
       "    <tr>\n",
       "      <th>2329</th>\n",
       "      <td>2023-06-28</td>\n",
       "      <td>10点</td>\n",
       "      <td>118.3</td>\n",
       "      <td>54.6</td>\n",
       "      <td>7.58</td>\n",
       "      <td>3.48</td>\n",
       "      <td>35</td>\n",
       "      <td>10:00</td>\n",
       "      <td>32.0</td>\n",
       "    </tr>\n",
       "    <tr>\n",
       "      <th>2331</th>\n",
       "      <td>2023-06-28</td>\n",
       "      <td>12点</td>\n",
       "      <td>118.4</td>\n",
       "      <td>54.9</td>\n",
       "      <td>7.64</td>\n",
       "      <td>3.4</td>\n",
       "      <td>35</td>\n",
       "      <td>12:00</td>\n",
       "      <td>37.0</td>\n",
       "    </tr>\n",
       "    <tr>\n",
       "      <th>2339</th>\n",
       "      <td>2023-06-28</td>\n",
       "      <td>20点</td>\n",
       "      <td>118.1</td>\n",
       "      <td>54.2</td>\n",
       "      <td>7.07</td>\n",
       "      <td>3.44</td>\n",
       "      <td>35</td>\n",
       "      <td>20:00</td>\n",
       "      <td>31.0</td>\n",
       "    </tr>\n",
       "  </tbody>\n",
       "</table>\n",
       "<p>1019 rows × 9 columns</p>\n",
       "</div>"
      ],
      "text/plain": [
       "           Date   时间    top   bot     y pressure flow_in   Time  Temp\n",
       "0    2023-03-22   8点  114.9  50.8  7.63     3.75      35   8:00  17.0\n",
       "2    2023-03-22  10点  116.5  51.1     8     3.76      35  10:00  18.0\n",
       "4    2023-03-22  12点  117.1  51.5     8     3.76      35  12:00  17.0\n",
       "6    2023-03-22  14点  117.1  51.3  8.11      3.9      36  14:00  16.0\n",
       "8    2023-03-22  16点  117.6  50.6  8.72     3.96      36  16:00  15.0\n",
       "...         ...  ...    ...   ...   ...      ...     ...    ...   ...\n",
       "2325 2023-06-28   6点  118.9  53.9  7.67     3.36      35   6:00  24.0\n",
       "2327 2023-06-28   8点  118.9    54  7.83     3.39      35   8:00  28.0\n",
       "2329 2023-06-28  10点  118.3  54.6  7.58     3.48      35  10:00  32.0\n",
       "2331 2023-06-28  12点  118.4  54.9  7.64      3.4      35  12:00  37.0\n",
       "2339 2023-06-28  20点  118.1  54.2  7.07     3.44      35  20:00  31.0\n",
       "\n",
       "[1019 rows x 9 columns]"
      ]
     },
     "execution_count": 10,
     "metadata": {},
     "output_type": "execute_result"
    }
   ],
   "source": [
    "df"
   ]
  },
  {
   "cell_type": "code",
   "execution_count": 33,
   "metadata": {},
   "outputs": [],
   "source": [
    "df_w = pd.read_excel('water.xlsx',names=[\"date1\",\"time1\",\"date2\",\"time2\",\"water\"])\n",
    "\n",
    "# assuming df is your DataFrame\n",
    "\n",
    "df_w['time1'] = df_w['time1'].astype(str)\n",
    "df_w['time2'] = df_w['time2'].astype(str)\n",
    "\n",
    "df_w['start'] = pd.to_datetime(df_w['date1'].astype(str) + ' ' + df_w['time1'])\n",
    "df_w['end'] = pd.to_datetime(df_w['date2'].astype(str) + ' ' + df_w['time2'])\n",
    "\n",
    "# create an empty DataFrame to store the results\n",
    "df_w_new = pd.DataFrame()\n",
    "\n",
    "for i in range(len(df_w)):\n",
    "    # create a datetime range for each row\n",
    "    r = pd.date_range(start=df_w.loc[i, 'start'], end=df_w.loc[i, 'end'], freq='H')\n",
    "\n",
    "    # create a new DataFrame for this range\n",
    "    df_temp = pd.DataFrame({\n",
    "        'Date': r.date,\n",
    "        'Time': r.time,\n",
    "        'Water': df_w.loc[i, 'water']\n",
    "    })\n",
    "\n",
    "    # append this DataFrame to the results DataFrame\n",
    "    df_w_new = pd.concat([df_w_new, df_temp], ignore_index=True)\n",
    "\n",
    "# Convert 'Time' back to string format without leading zero\n",
    "df_w_new['Time'] = df_w_new['Time'].apply(lambda x: x.strftime('%#H:%M'))\n",
    "\n",
    "df_w_new['Time']  = pd.to_datetime (df_w_new['Time'],format='%H:%M').dt.strftime('%#H:%M')\n",
    "df_w_new['Date']  = pd.to_datetime (df_w_new['Date'])"
   ]
  },
  {
   "cell_type": "code",
   "execution_count": null,
   "metadata": {},
   "outputs": [],
   "source": []
  },
  {
   "cell_type": "code",
   "execution_count": 36,
   "metadata": {},
   "outputs": [],
   "source": [
    "df = pd.merge(df, df_w_new, on=['Date', 'Time'], how='left')"
   ]
  },
  {
   "cell_type": "code",
   "execution_count": 41,
   "metadata": {},
   "outputs": [],
   "source": [
    "df.dropna(inplace=True)"
   ]
  },
  {
   "cell_type": "code",
   "execution_count": 42,
   "metadata": {},
   "outputs": [],
   "source": [
    "X = df[[\"top\",\"bot\",\"pressure\",\"Temp\",\"flow_in\",\"Water\"]].values.astype('float32')\n",
    "y = df[[\"y\"]].values.astype('float32')\n",
    "N,K = X.shape"
   ]
  },
  {
   "cell_type": "code",
   "execution_count": 44,
   "metadata": {},
   "outputs": [],
   "source": [
    "np.save('X.npy', X.reshape(N,1,K))\n",
    "np.save('y.npy', y)\n"
   ]
  },
  {
   "cell_type": "code",
   "execution_count": 19,
   "metadata": {},
   "outputs": [],
   "source": [
    "X_ = np.load(\"X.npy\",allow_pickle= True)\n",
    "y_ = np.load(\"y.npy\",allow_pickle= True)"
   ]
  },
  {
   "cell_type": "code",
   "execution_count": 46,
   "metadata": {},
   "outputs": [
    {
     "data": {
      "text/plain": [
       "954"
      ]
     },
     "execution_count": 46,
     "metadata": {},
     "output_type": "execute_result"
    }
   ],
   "source": [
    "len(X)"
   ]
  },
  {
   "cell_type": "code",
   "execution_count": null,
   "metadata": {},
   "outputs": [],
   "source": []
  }
 ],
 "metadata": {
  "kernelspec": {
   "display_name": "nl2sql",
   "language": "python",
   "name": "python3"
  },
  "language_info": {
   "codemirror_mode": {
    "name": "ipython",
    "version": 3
   },
   "file_extension": ".py",
   "mimetype": "text/x-python",
   "name": "python",
   "nbconvert_exporter": "python",
   "pygments_lexer": "ipython3",
   "version": "3.9.17"
  },
  "orig_nbformat": 4
 },
 "nbformat": 4,
 "nbformat_minor": 2
}
